{
 "cells": [
  {
   "cell_type": "code",
   "execution_count": null,
   "metadata": {},
   "outputs": [],
   "source": []
  },
  {
   "cell_type": "code",
   "execution_count": 23,
   "metadata": {},
   "outputs": [
    {
     "name": "stdout",
     "output_type": "stream",
     "text": [
      "Comp Turn: Snake(s) Water(w) or Gun(g)\n",
      "2\n",
      "You'r Turn: Snake(s) Water(w) or Gun(g)?1\n",
      "Computer chose {comp}\n",
      "You chose {you}\n",
      "The game is a tie! \n"
     ]
    }
   ],
   "source": [
    "#snake water gun or rock paper Scissors\n",
    "import random\n",
    "\n",
    "def game(comp, you):\n",
    "    # If two values are equal, declare a tie!\n",
    "    if comp == you:\n",
    "        return None\n",
    "    \n",
    "    # check for all possibilities when computer chose s\n",
    "    elif comp == 's':\n",
    "        if you == 'w':\n",
    "            return False\n",
    "        elif you == 'g':\n",
    "            return True\n",
    "    \n",
    "    # check for all possibilities when computer chose w\n",
    "    elif comp == 'w':\n",
    "        if you == 'g':\n",
    "            return False\n",
    "        elif you == 's':\n",
    "            return True\n",
    "    \n",
    "    # check for all possibilities when computer chose g\n",
    "    elif comp == 'g':\n",
    "        if you == 's':\n",
    "            return False\n",
    "        elif you == 'w':\n",
    "            return True\n",
    "\n",
    "print(\"Comp Turn: Snake(s) Water(w) or Gun(g)\")\n",
    "\n",
    "randNo = random.randint(1, 3)\n",
    "print(randNo)\n",
    "\n",
    "if randNo == 1:\n",
    "    comp == 's'\n",
    "    \n",
    "elif randNo == 2:\n",
    "    comp = 'w'\n",
    "    \n",
    "else:\n",
    "    randNo == 3\n",
    "    comp = 'g'\n",
    "    \n",
    "you = input(\"You'r Turn: Snake(s) Water(w) or Gun(g)?\")\n",
    "a = game(comp, you)\n",
    "\n",
    "print(\"Computer chose {comp}\")\n",
    "print(\"You chose {you}\")\n",
    "\n",
    "if a == None:\n",
    "    print(\"The game is a tie! \")\n",
    "\n",
    "elif a:\n",
    "    print(\"You Win!\")\n",
    "\n",
    "else:\n",
    "    print(\"You Lose\")"
   ]
  },
  {
   "cell_type": "code",
   "execution_count": null,
   "metadata": {},
   "outputs": [],
   "source": []
  },
  {
   "cell_type": "code",
   "execution_count": null,
   "metadata": {},
   "outputs": [],
   "source": []
  }
 ],
 "metadata": {
  "kernelspec": {
   "display_name": "Python 3",
   "language": "python",
   "name": "python3"
  },
  "language_info": {
   "codemirror_mode": {
    "name": "ipython",
    "version": 3
   },
   "file_extension": ".py",
   "mimetype": "text/x-python",
   "name": "python",
   "nbconvert_exporter": "python",
   "pygments_lexer": "ipython3",
   "version": "3.7.3"
  }
 },
 "nbformat": 4,
 "nbformat_minor": 2
}
